{
 "cells": [
  {
   "cell_type": "markdown",
   "metadata": {},
   "source": [
    "# Program for implementation of CartPole problem"
   ]
  },
  {
   "cell_type": "code",
   "execution_count": 1,
   "metadata": {},
   "outputs": [],
   "source": [
    "import numpy as np\n",
    "import pandas as pd\n",
    "import math\n",
    "from matplotlib import pyplot as plt"
   ]
  },
  {
   "cell_type": "code",
   "execution_count": 2,
   "metadata": {},
   "outputs": [
    {
     "name": "stdout",
     "output_type": "stream",
     "text": [
      "Empty DataFrame\n",
      "Columns: [0, 1]\n",
      "Index: []\n"
     ]
    }
   ],
   "source": [
    "actions = [0,1]\n",
    "qtable = pd.DataFrame(columns = actions, dtype = np.float64)\n",
    "print(qtable)"
   ]
  },
  {
   "cell_type": "code",
   "execution_count": 3,
   "metadata": {},
   "outputs": [],
   "source": [
    "def init_state(action, alpha = 0.09, gamma = 0.9, epsi = 0.1):\n",
    "    act = action\n",
    "    alph = alpha\n",
    "    game = gamma\n",
    "    eps = epsi\n",
    "    return act, alph, game, eps\n"
   ]
  },
  {
   "cell_type": "code",
   "execution_count": 4,
   "metadata": {},
   "outputs": [],
   "source": [
    "def take_act(observation,actions, alpha ,epsi, gamma = 1 ):\n",
    "    global qtable\n",
    "    if not (observation in qtable.index):\n",
    "        temp = pd.Series([0]*len(actions), index = actions, name = observation)\n",
    "        qtable = qtable.append(temp)\n",
    "        \n",
    "    num = np.random.uniform()\n",
    "    if num>epsi :\n",
    "        temp2 = qtable.loc[observation, : ]\n",
    "        temp2 = temp2.reindex(np.random.permutation(temp2.index))\n",
    "        action1 = temp2.idxmax()\n",
    "    else :\n",
    "        action1 = np.random.choice(actions)\n",
    "    #print(\"hello\", action1)\n",
    "    \n",
    "    \n",
    "    return action1"
   ]
  },
  {
   "cell_type": "code",
   "execution_count": 5,
   "metadata": {},
   "outputs": [],
   "source": [
    "def qlearn(observation, observation2, reward, act, actions, alpha, epsi, gamma =1):\n",
    "    global qtable\n",
    "    if not (observation2 in qtable.index):\n",
    "        temp = pd.Series([0]*len(actions), index = actions, name = observation2)\n",
    "        qtable = qtable.append(temp)\n",
    "    \n",
    "    q1 = qtable.loc[observation,act]\n",
    "    q2 = qtable.loc[observation2,:].max()\n",
    "    q1 = q1 + alpha*(reward + gamma*q2 - q1)\n",
    "    qtable.loc[observation, act] = q1"
   ]
  },
  {
   "cell_type": "code",
   "execution_count": 6,
   "metadata": {},
   "outputs": [],
   "source": [
    "def discretize(obs, env):\n",
    "    bucket = [1,1,6,12]\n",
    "    upper_bound = env.observation_space.high\n",
    "    lower_bound = env.observation_space.low\n",
    "    upper_bound[1] = 0.5\n",
    "    lower_bound[1] = -0.5\n",
    "    upper_bound[3] = math.radians(50)\n",
    "    lower_bound[3] = -math.radians(50)\n",
    "    newobs = []\n",
    "    for i in range(len(upper_bound)):\n",
    "        ratio = (obs[i] + abs(lower_bound[i]))/(upper_bound[i] - lower_bound[i])\n",
    "        temp = int(round( (bucket[i]-1)*ratio ))\n",
    "        temp = min(bucket[i]-1, max(0, temp))\n",
    "        newobs.append(temp)\n",
    "    \n",
    "    return np.array(newobs)"
   ]
  },
  {
   "cell_type": "code",
   "execution_count": 7,
   "metadata": {},
   "outputs": [],
   "source": [
    "def modify_epsilon(epsi):\n",
    "    t = 1-math.log10((epsi+1)/25)\n",
    "    return max(0.1, min(1, t))"
   ]
  },
  {
   "cell_type": "code",
   "execution_count": 8,
   "metadata": {},
   "outputs": [],
   "source": [
    "def modify_alpha(alpha):\n",
    "    t = 1-math.log10((alpha+1)/25)\n",
    "    return max(0.1, min(1, t))"
   ]
  },
  {
   "cell_type": "code",
   "execution_count": 9,
   "metadata": {},
   "outputs": [
    {
     "name": "stdout",
     "output_type": "stream",
     "text": [
      "\u001b[33mWARN: gym.spaces.Box autodetected dtype as <class 'numpy.float32'>. Please provide explicit dtype.\u001b[0m\n"
     ]
    }
   ],
   "source": [
    "import gym \n",
    "from gym import wrappers\n",
    "env = gym.make('CartPole-v1')\n",
    "#env = gym.wrappers.Monitor(env, './cartpole2', video_callable=lambda episode_id: True)\n",
    "#print(actions)\n"
   ]
  },
  {
   "cell_type": "code",
   "execution_count": 10,
   "metadata": {},
   "outputs": [],
   "source": [
    "alpha = 0.09\n",
    "gamma = 1\n",
    "epsi = 0.1\n",
    "x1 = []\n",
    "y1 = []"
   ]
  },
  {
   "cell_type": "code",
   "execution_count": 11,
   "metadata": {},
   "outputs": [
    {
     "name": "stdout",
     "output_type": "stream",
     "text": [
      "Episode number :  0 Iteration 15\n",
      "Episode number :  1 Iteration 21\n",
      "Episode number :  2 Iteration 28\n",
      "Episode number :  3 Iteration 16\n",
      "Episode number :  4 Iteration 22\n",
      "Episode number :  5 Iteration 17\n",
      "Episode number :  6 Iteration 26\n",
      "Episode number :  7 Iteration 13\n",
      "Episode number :  8 Iteration 36\n",
      "Episode number :  9 Iteration 25\n",
      "Episode number :  10 Iteration 40\n",
      "Episode number :  11 Iteration 18\n",
      "Episode number :  12 Iteration 12\n",
      "Episode number :  13 Iteration 22\n",
      "Episode number :  14 Iteration 25\n",
      "Episode number :  15 Iteration 11\n",
      "Episode number :  16 Iteration 21\n",
      "Episode number :  17 Iteration 11\n",
      "Episode number :  18 Iteration 32\n",
      "Episode number :  19 Iteration 17\n",
      "Episode number :  20 Iteration 23\n",
      "Episode number :  21 Iteration 17\n",
      "Episode number :  22 Iteration 17\n",
      "Episode number :  23 Iteration 26\n",
      "Episode number :  24 Iteration 28\n",
      "Episode number :  25 Iteration 12\n",
      "Episode number :  26 Iteration 20\n",
      "Episode number :  27 Iteration 12\n",
      "Episode number :  28 Iteration 16\n",
      "Episode number :  29 Iteration 38\n",
      "Episode number :  30 Iteration 11\n",
      "Episode number :  31 Iteration 58\n",
      "Episode number :  32 Iteration 16\n",
      "Episode number :  33 Iteration 20\n",
      "Episode number :  34 Iteration 26\n",
      "Episode number :  35 Iteration 25\n",
      "Episode number :  36 Iteration 14\n",
      "Episode number :  37 Iteration 68\n",
      "Episode number :  38 Iteration 13\n",
      "Episode number :  39 Iteration 15\n",
      "Episode number :  40 Iteration 46\n",
      "Episode number :  41 Iteration 14\n",
      "Episode number :  42 Iteration 28\n",
      "Episode number :  43 Iteration 36\n",
      "Episode number :  44 Iteration 35\n",
      "Episode number :  45 Iteration 28\n",
      "Episode number :  46 Iteration 12\n",
      "Episode number :  47 Iteration 26\n",
      "Episode number :  48 Iteration 11\n",
      "Episode number :  49 Iteration 38\n",
      "Episode number :  50 Iteration 21\n",
      "Episode number :  51 Iteration 35\n",
      "Episode number :  52 Iteration 10\n",
      "Episode number :  53 Iteration 20\n",
      "Episode number :  54 Iteration 53\n",
      "Episode number :  55 Iteration 9\n",
      "Episode number :  56 Iteration 68\n",
      "Episode number :  57 Iteration 41\n",
      "Episode number :  58 Iteration 79\n",
      "Episode number :  59 Iteration 10\n",
      "Episode number :  60 Iteration 12\n",
      "Episode number :  61 Iteration 29\n",
      "Episode number :  62 Iteration 8\n",
      "Episode number :  63 Iteration 26\n",
      "Episode number :  64 Iteration 22\n",
      "Episode number :  65 Iteration 15\n",
      "Episode number :  66 Iteration 10\n",
      "Episode number :  67 Iteration 45\n",
      "Episode number :  68 Iteration 16\n",
      "Episode number :  69 Iteration 36\n",
      "Episode number :  70 Iteration 25\n",
      "Episode number :  71 Iteration 59\n",
      "Episode number :  72 Iteration 20\n",
      "Episode number :  73 Iteration 69\n",
      "Episode number :  74 Iteration 55\n",
      "Episode number :  75 Iteration 28\n",
      "Episode number :  76 Iteration 78\n",
      "Episode number :  77 Iteration 54\n",
      "Episode number :  78 Iteration 25\n",
      "Episode number :  79 Iteration 36\n",
      "Episode number :  80 Iteration 43\n",
      "Episode number :  81 Iteration 93\n",
      "Episode number :  82 Iteration 56\n",
      "Episode number :  83 Iteration 54\n",
      "Episode number :  84 Iteration 20\n",
      "Episode number :  85 Iteration 74\n",
      "Episode number :  86 Iteration 59\n",
      "Episode number :  87 Iteration 42\n",
      "Episode number :  88 Iteration 14\n",
      "Episode number :  89 Iteration 11\n",
      "Episode number :  90 Iteration 64\n",
      "Episode number :  91 Iteration 29\n",
      "Episode number :  92 Iteration 18\n",
      "Episode number :  93 Iteration 19\n",
      "Episode number :  94 Iteration 12\n",
      "Episode number :  95 Iteration 43\n",
      "Episode number :  96 Iteration 30\n",
      "Episode number :  97 Iteration 54\n",
      "Episode number :  98 Iteration 64\n",
      "Episode number :  99 Iteration 22\n",
      "Episode number :  100 Iteration 18\n",
      "Episode number :  101 Iteration 339\n",
      "Episode number :  102 Iteration 108\n",
      "Episode number :  103 Iteration 114\n",
      "Episode number :  104 Iteration 57\n",
      "Episode number :  105 Iteration 33\n",
      "Episode number :  106 Iteration 42\n",
      "Episode number :  107 Iteration 18\n",
      "Episode number :  108 Iteration 63\n",
      "Episode number :  109 Iteration 56\n",
      "Episode number :  110 Iteration 39\n",
      "Episode number :  111 Iteration 30\n",
      "Episode number :  112 Iteration 31\n",
      "Episode number :  113 Iteration 26\n",
      "Episode number :  114 Iteration 69\n",
      "Episode number :  115 Iteration 27\n",
      "Episode number :  116 Iteration 40\n",
      "Episode number :  117 Iteration 128\n",
      "Episode number :  118 Iteration 36\n",
      "Episode number :  119 Iteration 39\n",
      "Episode number :  120 Iteration 142\n",
      "Episode number :  121 Iteration 42\n",
      "Episode number :  122 Iteration 320\n",
      "Episode number :  123 Iteration 227\n",
      "Episode number :  124 Iteration 72\n",
      "Episode number :  125 Iteration 59\n",
      "Episode number :  126 Iteration 127\n",
      "Episode number :  127 Iteration 89\n",
      "Episode number :  128 Iteration 173\n",
      "Episode number :  129 Iteration 78\n",
      "Episode number :  130 Iteration 105\n",
      "Episode number :  131 Iteration 106\n",
      "Episode number :  132 Iteration 218\n",
      "Episode number :  133 Iteration 303\n",
      "Episode number :  134 Iteration 257\n",
      "Episode number :  135 Iteration 145\n",
      "Episode number :  136 Iteration 158\n",
      "Episode number :  137 Iteration 59\n",
      "Episode number :  138 Iteration 21\n",
      "Episode number :  139 Iteration 107\n",
      "Episode number :  140 Iteration 25\n",
      "Episode number :  141 Iteration 40\n",
      "Episode number :  142 Iteration 26\n",
      "Episode number :  143 Iteration 24\n",
      "Episode number :  144 Iteration 22\n",
      "Episode number :  145 Iteration 16\n",
      "Episode number :  146 Iteration 145\n",
      "Episode number :  147 Iteration 149\n",
      "Episode number :  148 Iteration 70\n",
      "Episode number :  149 Iteration 37\n",
      "Episode number :  150 Iteration 84\n",
      "Episode number :  151 Iteration 220\n",
      "Episode number :  152 Iteration 26\n",
      "Episode number :  153 Iteration 82\n",
      "Episode number :  154 Iteration 82\n",
      "Episode number :  155 Iteration 72\n",
      "Episode number :  156 Iteration 63\n",
      "Episode number :  157 Iteration 136\n",
      "Episode number :  158 Iteration 67\n",
      "Episode number :  159 Iteration 121\n",
      "Episode number :  160 Iteration 25\n",
      "Episode number :  161 Iteration 56\n",
      "Episode number :  162 Iteration 241\n",
      "Episode number :  163 Iteration 134\n",
      "Episode number :  164 Iteration 86\n",
      "Episode number :  165 Iteration 347\n",
      "Episode number :  166 Iteration 374\n",
      "Episode number :  167 Iteration 334\n",
      "Episode number :  168 Iteration 422\n",
      "Episode number :  169 Iteration 433\n",
      "Episode number :  170 Iteration 500\n",
      "Episode number :  171 Iteration 500\n",
      "Episode number :  172 Iteration 379\n",
      "Episode number :  173 Iteration 500\n",
      "Episode number :  174 Iteration 500\n",
      "Episode number :  175 Iteration 460\n",
      "Episode number :  176 Iteration 500\n",
      "Episode number :  177 Iteration 408\n",
      "Episode number :  178 Iteration 416\n",
      "Episode number :  179 Iteration 441\n",
      "Episode number :  180 Iteration 500\n",
      "Episode number :  181 Iteration 500\n",
      "Episode number :  182 Iteration 500\n",
      "Episode number :  183 Iteration 466\n",
      "Episode number :  184 Iteration 403\n",
      "Episode number :  185 Iteration 466\n",
      "Episode number :  186 Iteration 500\n",
      "Episode number :  187 Iteration 437\n",
      "Episode number :  188 Iteration 409\n",
      "Episode number :  189 Iteration 500\n",
      "Episode number :  190 Iteration 500\n",
      "Episode number :  191 Iteration 444\n",
      "Episode number :  192 Iteration 329\n",
      "Episode number :  193 Iteration 500\n",
      "Episode number :  194 Iteration 500\n",
      "Episode number :  195 Iteration 377\n",
      "Episode number :  196 Iteration 500\n",
      "Episode number :  197 Iteration 500\n",
      "Episode number :  198 Iteration 395\n",
      "Episode number :  199 Iteration 466\n",
      "Episode number :  200 Iteration 487\n",
      "Episode number :  201 Iteration 457\n",
      "Episode number :  202 Iteration 481\n",
      "Episode number :  203 Iteration 500\n",
      "Episode number :  204 Iteration 297\n",
      "Episode number :  205 Iteration 388\n",
      "Episode number :  206 Iteration 481\n",
      "Episode number :  207 Iteration 469\n",
      "Episode number :  208 Iteration 500\n",
      "Episode number :  209 Iteration 420\n"
     ]
    }
   ],
   "source": [
    "for i in range(210):\n",
    "    observation1 = env.reset()\n",
    "    observation1 = discretize(observation1, env)\n",
    "    j=0\n",
    "    y1.append(i)\n",
    "    epsi = modify_epsilon(i)\n",
    "    alpha = modify_alpha(i)\n",
    "    while True:\n",
    "        j+=1\n",
    "        env.render()\n",
    "        act1 = take_act(str(observation1),actions, alpha, epsi , gamma)\n",
    "        observation2, reward, done, info = env.step(act1)\n",
    "        observation2 = discretize(observation2, env)\n",
    "        qlearn(str(observation1), str(observation2), reward, act1, actions, alpha, epsi , gamma)\n",
    "        observation1 = observation2\n",
    "        if done:\n",
    "            print(\"Episode number : \", i, \"Iteration\", j)\n",
    "            x1.append(j)\n",
    "            break;"
   ]
  },
  {
   "cell_type": "code",
   "execution_count": 12,
   "metadata": {},
   "outputs": [
    {
     "data": {
      "text/plain": [
       "[<matplotlib.lines.Line2D at 0x116950e10>]"
      ]
     },
     "execution_count": 12,
     "metadata": {},
     "output_type": "execute_result"
    }
   ],
   "source": [
    "x1 = np.array(x1)\n",
    "y1 = np.array(y1)\n",
    "plt.plot(y1,x1)"
   ]
  },
  {
   "cell_type": "code",
   "execution_count": 13,
   "metadata": {},
   "outputs": [
    {
     "data": {
      "text/plain": [
       "[<matplotlib.lines.Line2D at 0x11695b978>]"
      ]
     },
     "execution_count": 13,
     "metadata": {},
     "output_type": "execute_result"
    }
   ],
   "source": [
    "z2 = [200]*210\n",
    "z1 = []\n",
    "for i in range(0,210):\n",
    "    z1.append(i)\n",
    "z1 = np.array(z1)\n",
    "z2 = np.array(z2)\n",
    "plt.plot(z1, z2, color = 'green')\n"
   ]
  },
  {
   "cell_type": "code",
   "execution_count": 14,
   "metadata": {},
   "outputs": [
    {
     "data": {
      "image/png": "[encoded data removed]",
      "text/plain": [
       "<matplotlib.figure.Figure at 0x1126c04e0>"
      ]
     },
     "metadata": {},
     "output_type": "display_data"
    }
   ],
   "source": [
    "plt.title(\"Learning Performance\")\n",
    "plt.xlabel(\"Number of Episodes\")\n",
    "plt.ylabel(\"Number of Timesteps\")\n",
    "plt.show()"
   ]
  },
  {
   "cell_type": "code",
   "execution_count": null,
   "metadata": {},
   "outputs": [],
   "source": []
  }
 ],
 "metadata": {
  "kernelspec": {
   "display_name": "Python 3",
   "language": "python",
   "name": "python3"
  },
  "language_info": {
   "codemirror_mode": {
    "name": "ipython",
    "version": 3
   },
   "file_extension": ".py",
   "mimetype": "text/x-python",
   "name": "python",
   "nbconvert_exporter": "python",
   "pygments_lexer": "ipython3",
   "version": "3.5.2"
  },
  "widgets": {
   "state": {},
   "version": "1.1.2"
  }
 },
 "nbformat": 4,
 "nbformat_minor": 2
}
